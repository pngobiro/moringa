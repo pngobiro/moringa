{
 "cells": [
  {
   "cell_type": "code",
   "execution_count": 7,
   "id": "6434c7cf-366f-491e-9821-f41d58ad8f9b",
   "metadata": {},
   "outputs": [
    {
     "name": "stdout",
     "output_type": "stream",
     "text": [
      "{'first_name': 'Patrick', 'last_name': 'Ngobiro', 'id': 4673289, 'dob': '3/5/2099', 'gender': 'Male'}\n"
     ]
    }
   ],
   "source": [
    "student = {\n",
    "    \"first_name\" : \"Patrick\",\n",
    "    \"last_name\" : \"Ngobiro\",\n",
    "    \"id\" : 4673289,\n",
    "    \"dob\" : \"3/5/2099\",\n",
    "    \"gender\" : \"Male\"\n",
    "}\n",
    "\n",
    "print(student)"
   ]
  },
  {
   "cell_type": "code",
   "execution_count": 15,
   "id": "c4eb067d-ebb5-4b72-ba4c-c2c4653f939b",
   "metadata": {},
   "outputs": [
    {
     "name": "stdout",
     "output_type": "stream",
     "text": [
      "dict_keys(['sky', 'friends', 'kitchen', 'others'])\n",
      "Ngobs\n",
      "{'sky': ['Nyambane', 'Lumumba', 'Eugene', 'Kirui'], 'friends': ['Martin', 'prof', 'Chemuu'], 'kitchen': ['MaggieLinda'], 'others': ['Ngobs', 'John']}\n"
     ]
    }
   ],
   "source": [
    "office = {\n",
    "    \"sky\" : [\"Nyambane\", \"Lumumba\", \"Eugene\"],\n",
    "    \"friends\": [\"Martin\", \"prof\", \"Chemuu\" ],\n",
    "    \"kitchen\" : [\"Maggie\" \"Linda\"],\n",
    "    \"others\" : [\"Ngobs\" , \"John\"]\n",
    "}\n",
    "print(office.keys())\n",
    "print(office[\"others\"][0])\n",
    "\n",
    "if \"Kirui\" not in office[\"sky\"]:\n",
    "    office[\"sky\"].append(\"Kirui\")\n",
    "print(office)\n",
    "    "
   ]
  },
  {
   "cell_type": "code",
   "execution_count": 17,
   "id": "badb6219-ea18-49c9-b59f-fc40d51dbbc1",
   "metadata": {},
   "outputs": [
    {
     "name": "stdout",
     "output_type": "stream",
     "text": [
      "NGOBS\n"
     ]
    }
   ],
   "source": [
    "print(office[\"others\"][0].upper())"
   ]
  },
  {
   "cell_type": "code",
   "execution_count": 37,
   "id": "46f74f48-b167-4520-a809-96e08bf72f11",
   "metadata": {},
   "outputs": [
    {
     "name": "stdout",
     "output_type": "stream",
     "text": [
      "{'breakfast': {'beverages': {'Tea': ['Masala', 'Ginger', 'Caramel'], 'Coffee': ['black', 'white', 'lathe'], 'cocoa': ['hot', 'free range'], 'mursik': ['white', 'black']}, 'accompainement': {'wings': ['hot wings', 'spicy', 'lemon and herbs'], 'kienyeji': ['nduma', 'nguashe', 'cassava']}}, 'lunch': {'carbs': ['ugali', 'chapo', 'rice', 'mokimo'], 'veges': ['sukuma', 'cabbage'], 'proteins': ['beef', 'pork', 'fish', 'mutton']}}\n"
     ]
    }
   ],
   "source": [
    "menu = {\n",
    "    \"breakfast\" : {\n",
    "        \"beverages\" : {\n",
    "            \"Tea\" : [\"Masala\" , \"Ginger\" , \"Caramel\"],\n",
    "            \"Coffee\" : [\"black\" , \"white\" , \"lathe\" ],\n",
    "            \"cocoa\" :  [ \"hot\" , \"free range\" ],\n",
    "            \"mursik\" : [\"white\" , \"black\" ],\n",
    "        },\n",
    "    \"accompainement\" : {\n",
    "        \"wings\" : [\"hot wings\" , \"spicy\" , \"lemon and herbs\"],\n",
    "        \"kienyeji\" : [ \"nduma\" , \"nguashe\", \"cassava\" ],\n",
    "    },\n",
    "    },\n",
    "    \"lunch\" : {\n",
    "        \"carbs\": [ \"ugali\" , \"chapo\" , \"rice\" , \"mokimo\" ],\n",
    "        \"veges\" : [ \"sukuma\", \"cabbage\" ],\n",
    "        \"proteins\" : [\"beef\" , \"pork\", \"fish\", \"mutton\"]\n",
    "    }\n",
    "    \n",
    "}\n",
    "print(menu)\n",
    "        \n",
    "        "
   ]
  },
  {
   "cell_type": "code",
   "execution_count": 68,
   "id": "4a6ef47c-34a2-4d16-bc68-56d8b1aa9e7f",
   "metadata": {},
   "outputs": [
    {
     "name": "stdout",
     "output_type": "stream",
     "text": [
      "dict_keys(['breakfast', 'lunch'])\n"
     ]
    },
    {
     "ename": "NameError",
     "evalue": "name 'reakfast_accompainement' is not defined",
     "output_type": "error",
     "traceback": [
      "\u001b[0;31m---------------------------------------------------------------------------\u001b[0m",
      "\u001b[0;31mNameError\u001b[0m                                 Traceback (most recent call last)",
      "Cell \u001b[0;32mIn[68], line 4\u001b[0m\n\u001b[1;32m      2\u001b[0m breakfast_tea\u001b[38;5;241m=\u001b[39m menu[\u001b[38;5;124m\"\u001b[39m\u001b[38;5;124mbreakfast\u001b[39m\u001b[38;5;124m\"\u001b[39m][\u001b[38;5;124m\"\u001b[39m\u001b[38;5;124mbeverages\u001b[39m\u001b[38;5;124m\"\u001b[39m][\u001b[38;5;124m\"\u001b[39m\u001b[38;5;124mTea\u001b[39m\u001b[38;5;124m\"\u001b[39m][\u001b[38;5;241m0\u001b[39m]\n\u001b[1;32m      3\u001b[0m breakfast_accompainement \u001b[38;5;241m=\u001b[39m menu[\u001b[38;5;124m\"\u001b[39m\u001b[38;5;124mbreakfast\u001b[39m\u001b[38;5;124m\"\u001b[39m][\u001b[38;5;124m\"\u001b[39m\u001b[38;5;124maccompainement\u001b[39m\u001b[38;5;124m\"\u001b[39m][\u001b[38;5;124m\"\u001b[39m\u001b[38;5;124mwings\u001b[39m\u001b[38;5;124m\"\u001b[39m][\u001b[38;5;241m0\u001b[39m]\n\u001b[0;32m----> 4\u001b[0m breakfast \u001b[38;5;241m=\u001b[39m  breakfast_tea \u001b[38;5;241m+\u001b[39m \u001b[38;5;124m\"\u001b[39m\u001b[38;5;124m \u001b[39m\u001b[38;5;124m\"\u001b[39m \u001b[38;5;241m+\u001b[39m reakfast_accompainement\n\u001b[1;32m      5\u001b[0m lunch_carbs \u001b[38;5;241m=\u001b[39m menu[\u001b[38;5;124m\"\u001b[39m\u001b[38;5;124mlunch\u001b[39m\u001b[38;5;124m\"\u001b[39m][\u001b[38;5;124m\"\u001b[39m\u001b[38;5;124mcarbs\u001b[39m\u001b[38;5;124m\"\u001b[39m][\u001b[38;5;241m0\u001b[39m]\n\u001b[1;32m      6\u001b[0m lunch_veges \u001b[38;5;241m=\u001b[39m menu[\u001b[38;5;124m\"\u001b[39m\u001b[38;5;124mlunch\u001b[39m\u001b[38;5;124m\"\u001b[39m][\u001b[38;5;124m\"\u001b[39m\u001b[38;5;124mveges\u001b[39m\u001b[38;5;124m\"\u001b[39m][\u001b[38;5;241m0\u001b[39m]\n",
      "\u001b[0;31mNameError\u001b[0m: name 'reakfast_accompainement' is not defined"
     ]
    }
   ],
   "source": [
    "print(menu.keys())\n",
    "breakfast_tea= menu[\"breakfast\"][\"beverages\"][\"Tea\"][0]\n",
    "breakfast_accompainement = menu[\"breakfast\"][\"accompainement\"][\"wings\"][0]\n",
    "breakfast =  breakfast_tea + \" \" + reakfast_accompainement\n",
    "lunch_carbs = menu[\"lunch\"][\"carbs\"][0]\n",
    "lunch_veges = menu[\"lunch\"][\"veges\"][0]\n",
    "lunch_proteins = menu[\"lunch\"][\"proteins\"][0]\n",
    "lunch = lunch_carbs + \" \" + lunch_veges  +  \" \"  +  lunch_proteins \n",
    "order = f\" Patrick will have {breakfast} for breakfast and {lunch} for lunch\"\n",
    "print(order)"
   ]
  },
  {
   "cell_type": "code",
   "execution_count": null,
   "id": "7d5310f9-9f6e-472f-ae19-1646fccbfdd9",
   "metadata": {},
   "outputs": [],
   "source": []
  },
  {
   "cell_type": "code",
   "execution_count": null,
   "id": "86908caa-c989-44b4-9ca7-2b8cc58c7d70",
   "metadata": {},
   "outputs": [],
   "source": []
  },
  {
   "cell_type": "code",
   "execution_count": null,
   "id": "d957ac2e-c994-4f3a-b998-226ede41a3e3",
   "metadata": {},
   "outputs": [],
   "source": []
  }
 ],
 "metadata": {
  "kernelspec": {
   "display_name": "Python 3 (ipykernel)",
   "language": "python",
   "name": "python3"
  },
  "language_info": {
   "codemirror_mode": {
    "name": "ipython",
    "version": 3
   },
   "file_extension": ".py",
   "mimetype": "text/x-python",
   "name": "python",
   "nbconvert_exporter": "python",
   "pygments_lexer": "ipython3",
   "version": "3.11.3"
  }
 },
 "nbformat": 4,
 "nbformat_minor": 5
}
