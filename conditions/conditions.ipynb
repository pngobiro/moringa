{
 "cells": [
  {
   "cell_type": "code",
   "execution_count": 4,
   "id": "4cd823f1-086c-418c-ac27-1ed3cbcf58d5",
   "metadata": {},
   "outputs": [
    {
     "name": "stdout",
     "output_type": "stream",
     "text": [
      "1\n"
     ]
    }
   ],
   "source": [
    "leave_days =0\n",
    "leave_days = leave_days = 1\n",
    "print(leave_days)"
   ]
  },
  {
   "cell_type": "code",
   "execution_count": 6,
   "id": "ebfa36e4-c6ab-49fc-afa4-6abbacd646e9",
   "metadata": {
    "tags": []
   },
   "outputs": [
    {
     "name": "stdout",
     "output_type": "stream",
     "text": [
      "-1\n"
     ]
    }
   ],
   "source": [
    "leave_days =0\n",
    "leave_days -= 1\n",
    "print(leave_days)"
   ]
  },
  {
   "cell_type": "code",
   "execution_count": 10,
   "id": "8622246c-5192-4b7e-b7d8-fd019ebc0e79",
   "metadata": {
    "tags": []
   },
   "outputs": [
    {
     "name": "stdout",
     "output_type": "stream",
     "text": [
      "adult\n"
     ]
    }
   ],
   "source": [
    "age = 20\n",
    "if age >= 18:\n",
    "    print(\"adult\")\n",
    "    "
   ]
  },
  {
   "cell_type": "code",
   "execution_count": 14,
   "id": "4c83ef1c-406b-4d02-9456-5dbf0eaf664a",
   "metadata": {
    "tags": []
   },
   "outputs": [
    {
     "name": "stdout",
     "output_type": "stream",
     "text": [
      "Pass\n"
     ]
    }
   ],
   "source": [
    "score = 45\n",
    "if score > 40:\n",
    "    outcome = \"Pass\"\n",
    "    print(outcome)\n",
    "else:\n",
    "    outcome= \"fail\"\n",
    "    print(outcome)\n",
    "\n",
    "    \n",
    "    "
   ]
  },
  {
   "cell_type": "code",
   "execution_count": 1,
   "id": "4d6d9a67-5943-415c-97eb-eac83142a0b8",
   "metadata": {
    "tags": []
   },
   "outputs": [
    {
     "name": "stdout",
     "output_type": "stream",
     "text": [
      "The number 78 is even.\n"
     ]
    }
   ],
   "source": [
    "#Assignment \n",
    "#1. Write a program that determines whether a number is even or odd. Print a message indicating whether the number is even or odd.\n",
    "def is_even_or_odd(number):\n",
    "    if number % 2 == 0:\n",
    "        return \"even\"\n",
    "    else:\n",
    "        return \"odd\"\n",
    "    \n",
    "number = 78\n",
    "result = is_even_or_odd(number)\n",
    "print(f\"The number {number} is {result}.\")"
   ]
  },
  {
   "cell_type": "code",
   "execution_count": null,
   "id": "195e930a-cb83-4c62-be0b-faf1b87373f5",
   "metadata": {},
   "outputs": [],
   "source": [
    "# 2. Write a program that checks if a given year is a leap year. A leap year is divisible by 4, but not divisible by 100, except if its divisible by 400.\n",
    "def is_leap_year(year):\n",
    "    if (year % 4 == 0 and year % 100 != 0) or year % 400 == 0:\n",
    "        return True\n",
    "    else:\n",
    "        return False\n",
    "    \n",
    "year = 2020\n",
    "if is_leap_year(year):\n",
    "    print(f\"{year} is a leap year.\")\n",
    "else:\n",
    "    print(f\"{year} is not a leap year.\")\n"
   ]
  },
  {
   "cell_type": "code",
   "execution_count": 5,
   "id": "8787000d-7b9f-4ab5-8a54-5d4bda9abca7",
   "metadata": {
    "tags": []
   },
   "outputs": [
    {
     "name": "stdout",
     "output_type": "stream",
     "text": [
      "The price of the movie theater ticket for age 12 is Ksh 400.\n"
     ]
    }
   ],
   "source": [
    "#  Write a program that will use age to determine the price of a movie theater. Age < 13  price Ksh 400 13 <= Age <=17 Ksh 600 18 <= Age 65 <= Ksh 800 Age > 65 Ksh 350\n",
    "def calculate_movie_price(age):\n",
    "    if age < 13:\n",
    "        return 400\n",
    "    elif 13 <= age <= 17:\n",
    "        return 600\n",
    "    elif 18 <= age <= 65:\n",
    "        return 800\n",
    "    else:\n",
    "        return 350\n",
    "\n",
    "age = 12\n",
    "movie_price = calculate_movie_price(age)\n",
    "print(f\"The price of the movie theater ticket for age {age} is Ksh {movie_price}.\")"
   ]
  },
  {
   "cell_type": "code",
   "execution_count": 6,
   "id": "4ab53fae-51c5-4aee-a54a-2184bbd172b8",
   "metadata": {},
   "outputs": [
    {
     "name": "stdout",
     "output_type": "stream",
     "text": [
      " PAW PAW\n"
     ]
    }
   ],
   "source": [
    "fruits = [\"mango\",[\" Paw paw\" ,\"oranges\" ],\"quava\"]\n",
    "\n",
    "print(fruits[1][0].upper())"
   ]
  },
  {
   "cell_type": "code",
   "execution_count": 15,
   "id": "989170dc-f8be-4eff-84a7-978adba925b9",
   "metadata": {},
   "outputs": [],
   "source": [
    "noise_makers = [\"Eva\" , \"Maggie\" , \"Kocheli\"]\n",
    "if \"Solo\" in noise_makers:\n",
    "    print(\"present\")\n",
    "else:\n",
    "    noise_makers.append(\"Solo\")"
   ]
  },
  {
   "cell_type": "code",
   "execution_count": 16,
   "id": "efca35f7-6761-4cb8-a7f8-31d7f308b55c",
   "metadata": {},
   "outputs": [
    {
     "name": "stdout",
     "output_type": "stream",
     "text": [
      "['Eva', 'Maggie', 'Kocheli', 'Solo']\n"
     ]
    }
   ],
   "source": [
    "print(noise_makers)"
   ]
  },
  {
   "cell_type": "code",
   "execution_count": 29,
   "id": "dd742ccc-bcc3-44f1-9b7f-fdc316e075c0",
   "metadata": {},
   "outputs": [
    {
     "name": "stdout",
     "output_type": "stream",
     "text": [
      "[['Yussuf', 'Ida'], 'Eva', 'Maggie', 'Kocheli']\n"
     ]
    }
   ],
   "source": [
    "noise_makers = []\n",
    "noise_makers = [\"Eva\" , \"Maggie\" , \"Kocheli\"]\n",
    "missing = [\"Yussuf\" , \"Ida\"]\n",
    "if missing not in noise_makers:\n",
    "    noise_makers.insert(0,missing)\n",
    "print(noise_makers)"
   ]
  },
  {
   "cell_type": "code",
   "execution_count": 27,
   "id": "684d9467-4676-4f77-817a-db76939e1116",
   "metadata": {},
   "outputs": [
    {
     "name": "stdout",
     "output_type": "stream",
     "text": [
      "4\n"
     ]
    }
   ],
   "source": [
    "print(len(noise_makers))"
   ]
  },
  {
   "cell_type": "code",
   "execution_count": 35,
   "id": "77b6cbd7-7493-48e0-b52e-cefd140bc5c8",
   "metadata": {},
   "outputs": [
    {
     "name": "stdout",
     "output_type": "stream",
     "text": [
      "[4, 5, 6, 23, 77, 98]\n"
     ]
    }
   ],
   "source": [
    "num = [23,4,5,6,77,98]\n",
    "print(sorted(num))"
   ]
  },
  {
   "cell_type": "code",
   "execution_count": null,
   "id": "63c782ba-f6ca-465f-ac8a-dbc414be8925",
   "metadata": {},
   "outputs": [],
   "source": []
  }
 ],
 "metadata": {
  "kernelspec": {
   "display_name": "Python 3 (ipykernel)",
   "language": "python",
   "name": "python3"
  },
  "language_info": {
   "codemirror_mode": {
    "name": "ipython",
    "version": 3
   },
   "file_extension": ".py",
   "mimetype": "text/x-python",
   "name": "python",
   "nbconvert_exporter": "python",
   "pygments_lexer": "ipython3",
   "version": "3.11.3"
  }
 },
 "nbformat": 4,
 "nbformat_minor": 5
}
